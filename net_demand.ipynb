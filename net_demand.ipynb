{
 "cells": [
  {
   "cell_type": "markdown",
   "metadata": {},
   "source": [
    "# Net Demand\n",
    "\n",
    "`Net Demand` = `Total Demand` - `Vesting Contract`\n",
    "             = `Demand` + `TCL` + `Transmisson Loss` - `Vesting Contract`"
   ]
  },
  {
   "cell_type": "code",
   "execution_count": 1,
   "metadata": {},
   "outputs": [
    {
     "data": {
      "text/html": [
       "<div>\n",
       "<style scoped>\n",
       "    .dataframe tbody tr th:only-of-type {\n",
       "        vertical-align: middle;\n",
       "    }\n",
       "\n",
       "    .dataframe tbody tr th {\n",
       "        vertical-align: top;\n",
       "    }\n",
       "\n",
       "    .dataframe thead th {\n",
       "        text-align: right;\n",
       "    }\n",
       "</style>\n",
       "<table border=\"1\" class=\"dataframe\">\n",
       "  <thead>\n",
       "    <tr style=\"text-align: right;\">\n",
       "      <th></th>\n",
       "      <th>Date</th>\n",
       "      <th>Period</th>\n",
       "      <th>Demand</th>\n",
       "      <th>TCL</th>\n",
       "      <th>TransmissionLoss</th>\n",
       "    </tr>\n",
       "  </thead>\n",
       "  <tbody>\n",
       "    <tr>\n",
       "      <th>0</th>\n",
       "      <td>2023-07-01</td>\n",
       "      <td>1</td>\n",
       "      <td>6086.883</td>\n",
       "      <td>0.0</td>\n",
       "      <td>32.68</td>\n",
       "    </tr>\n",
       "  </tbody>\n",
       "</table>\n",
       "</div>"
      ],
      "text/plain": [
       "         Date  Period    Demand  TCL  TransmissionLoss\n",
       "0  2023-07-01       1  6086.883  0.0             32.68"
      ]
     },
     "execution_count": 1,
     "metadata": {},
     "output_type": "execute_result"
    }
   ],
   "source": [
    "import pandas as pd\n",
    "\n",
    "rt_dpr = pd.read_csv('./data/RT_DPR.csv')\n",
    "rt_dpr = rt_dpr[['Date', 'Period', 'Demand', 'TCL', 'TransmissionLoss']]\n",
    "rt_dpr['TransmissionLoss'] = rt_dpr['TransmissionLoss'].fillna(0)\n",
    "rt_dpr = rt_dpr[rt_dpr['Date'] > '2023-06-30']\n",
    "rt_dpr = rt_dpr.sort_values(by=['Date', 'Period'])\n",
    "rt_dpr.reset_index(drop=True, inplace=True)\n",
    "rt_dpr.head(1)"
   ]
  },
  {
   "cell_type": "code",
   "execution_count": 2,
   "metadata": {},
   "outputs": [],
   "source": [
    "vc_per = pd.read_csv('./data/VCData_Period.csv')"
   ]
  },
  {
   "cell_type": "markdown",
   "metadata": {},
   "source": [
    "Create a view of [Total Demand, TCQ, Net Demand] from `rt_dpr` and `vc_per`."
   ]
  },
  {
   "cell_type": "code",
   "execution_count": 3,
   "metadata": {},
   "outputs": [],
   "source": [
    "rt_dpr['Total Demand'] = rt_dpr['Demand'] + rt_dpr['TCL'] + rt_dpr['TransmissionLoss']\n",
    "view = rt_dpr[['Date', 'Period', 'Total Demand']].copy()"
   ]
  },
  {
   "cell_type": "code",
   "execution_count": 4,
   "metadata": {},
   "outputs": [],
   "source": [
    "import holidays\n",
    "\n",
    "sg_holidays = holidays.country_holidays('SG')"
   ]
  },
  {
   "cell_type": "code",
   "execution_count": 5,
   "metadata": {},
   "outputs": [],
   "source": [
    "import datetime as dt\n",
    "def find_tcq(row):\n",
    "    # print(row)\n",
    "    date_obj = dt.datetime.strptime(row['Date'], '%Y-%m-%d')\n",
    "    year = date_obj.year\n",
    "    quarter = (date_obj.month - 1) // 3 + 1\n",
    "    \n",
    "    isWeekend = 1 if date_obj.isoweekday() > 5 else 0\n",
    "    isPublicHoliday = date_obj in sg_holidays\n",
    "    \n",
    "    if isWeekend or isPublicHoliday:\n",
    "        return vc_per[(vc_per['Year'] == year) & (vc_per['Quarter'] == quarter)]['TCQ_Weekend_PH'].values[0] / 1000\n",
    "    else:\n",
    "        return vc_per[(vc_per['Year'] == year) & (vc_per['Quarter'] == quarter)]['TCQ_Weekday'].values[0] / 1000"
   ]
  },
  {
   "cell_type": "code",
   "execution_count": 6,
   "metadata": {},
   "outputs": [
    {
     "data": {
      "text/html": [
       "<div>\n",
       "<style scoped>\n",
       "    .dataframe tbody tr th:only-of-type {\n",
       "        vertical-align: middle;\n",
       "    }\n",
       "\n",
       "    .dataframe tbody tr th {\n",
       "        vertical-align: top;\n",
       "    }\n",
       "\n",
       "    .dataframe thead th {\n",
       "        text-align: right;\n",
       "    }\n",
       "</style>\n",
       "<table border=\"1\" class=\"dataframe\">\n",
       "  <thead>\n",
       "    <tr style=\"text-align: right;\">\n",
       "      <th></th>\n",
       "      <th>Date</th>\n",
       "      <th>Period</th>\n",
       "      <th>Total Demand</th>\n",
       "      <th>TCQ</th>\n",
       "      <th>Net Demand</th>\n",
       "    </tr>\n",
       "  </thead>\n",
       "  <tbody>\n",
       "    <tr>\n",
       "      <th>0</th>\n",
       "      <td>2023-07-01</td>\n",
       "      <td>1</td>\n",
       "      <td>6119.563</td>\n",
       "      <td>486.146668</td>\n",
       "      <td>5633.416332</td>\n",
       "    </tr>\n",
       "    <tr>\n",
       "      <th>1</th>\n",
       "      <td>2023-07-01</td>\n",
       "      <td>2</td>\n",
       "      <td>6019.671</td>\n",
       "      <td>486.146668</td>\n",
       "      <td>5533.524332</td>\n",
       "    </tr>\n",
       "    <tr>\n",
       "      <th>2</th>\n",
       "      <td>2023-07-01</td>\n",
       "      <td>3</td>\n",
       "      <td>5910.691</td>\n",
       "      <td>486.146668</td>\n",
       "      <td>5424.544332</td>\n",
       "    </tr>\n",
       "    <tr>\n",
       "      <th>3</th>\n",
       "      <td>2023-07-01</td>\n",
       "      <td>4</td>\n",
       "      <td>5843.399</td>\n",
       "      <td>486.146668</td>\n",
       "      <td>5357.252332</td>\n",
       "    </tr>\n",
       "    <tr>\n",
       "      <th>4</th>\n",
       "      <td>2023-07-01</td>\n",
       "      <td>5</td>\n",
       "      <td>5797.707</td>\n",
       "      <td>486.146668</td>\n",
       "      <td>5311.560332</td>\n",
       "    </tr>\n",
       "    <tr>\n",
       "      <th>5</th>\n",
       "      <td>2023-07-01</td>\n",
       "      <td>6</td>\n",
       "      <td>5747.641</td>\n",
       "      <td>486.146668</td>\n",
       "      <td>5261.494332</td>\n",
       "    </tr>\n",
       "    <tr>\n",
       "      <th>6</th>\n",
       "      <td>2023-07-01</td>\n",
       "      <td>7</td>\n",
       "      <td>5697.556</td>\n",
       "      <td>486.146668</td>\n",
       "      <td>5211.409332</td>\n",
       "    </tr>\n",
       "    <tr>\n",
       "      <th>7</th>\n",
       "      <td>2023-07-01</td>\n",
       "      <td>8</td>\n",
       "      <td>5635.452</td>\n",
       "      <td>486.146668</td>\n",
       "      <td>5149.305332</td>\n",
       "    </tr>\n",
       "    <tr>\n",
       "      <th>8</th>\n",
       "      <td>2023-07-01</td>\n",
       "      <td>9</td>\n",
       "      <td>5582.066</td>\n",
       "      <td>486.146668</td>\n",
       "      <td>5095.919332</td>\n",
       "    </tr>\n",
       "    <tr>\n",
       "      <th>9</th>\n",
       "      <td>2023-07-01</td>\n",
       "      <td>10</td>\n",
       "      <td>5556.647</td>\n",
       "      <td>486.146668</td>\n",
       "      <td>5070.500332</td>\n",
       "    </tr>\n",
       "  </tbody>\n",
       "</table>\n",
       "</div>"
      ],
      "text/plain": [
       "         Date  Period  Total Demand         TCQ   Net Demand\n",
       "0  2023-07-01       1      6119.563  486.146668  5633.416332\n",
       "1  2023-07-01       2      6019.671  486.146668  5533.524332\n",
       "2  2023-07-01       3      5910.691  486.146668  5424.544332\n",
       "3  2023-07-01       4      5843.399  486.146668  5357.252332\n",
       "4  2023-07-01       5      5797.707  486.146668  5311.560332\n",
       "5  2023-07-01       6      5747.641  486.146668  5261.494332\n",
       "6  2023-07-01       7      5697.556  486.146668  5211.409332\n",
       "7  2023-07-01       8      5635.452  486.146668  5149.305332\n",
       "8  2023-07-01       9      5582.066  486.146668  5095.919332\n",
       "9  2023-07-01      10      5556.647  486.146668  5070.500332"
      ]
     },
     "execution_count": 6,
     "metadata": {},
     "output_type": "execute_result"
    }
   ],
   "source": [
    "view['TCQ'] = view.apply(lambda row: find_tcq(row), axis=1)\n",
    "view['Net Demand'] = view['Total Demand'] - view['TCQ']\n",
    "view.head(10)"
   ]
  },
  {
   "cell_type": "code",
   "execution_count": 7,
   "metadata": {},
   "outputs": [],
   "source": [
    "view.to_csv('./data/NET.csv', index=False)"
   ]
  },
  {
   "cell_type": "code",
   "execution_count": 8,
   "metadata": {},
   "outputs": [
    {
     "data": {
      "text/html": [
       "<div>\n",
       "<style scoped>\n",
       "    .dataframe tbody tr th:only-of-type {\n",
       "        vertical-align: middle;\n",
       "    }\n",
       "\n",
       "    .dataframe tbody tr th {\n",
       "        vertical-align: top;\n",
       "    }\n",
       "\n",
       "    .dataframe thead th {\n",
       "        text-align: right;\n",
       "    }\n",
       "</style>\n",
       "<table border=\"1\" class=\"dataframe\">\n",
       "  <thead>\n",
       "    <tr style=\"text-align: right;\">\n",
       "      <th></th>\n",
       "      <th>Date</th>\n",
       "      <th>Period</th>\n",
       "      <th>Total Demand</th>\n",
       "      <th>TCQ</th>\n",
       "      <th>Net Demand</th>\n",
       "    </tr>\n",
       "  </thead>\n",
       "  <tbody>\n",
       "    <tr>\n",
       "      <th>12896</th>\n",
       "      <td>2024-03-25</td>\n",
       "      <td>33</td>\n",
       "      <td>7117.993</td>\n",
       "      <td>355.818726</td>\n",
       "      <td>6762.174274</td>\n",
       "    </tr>\n",
       "  </tbody>\n",
       "</table>\n",
       "</div>"
      ],
      "text/plain": [
       "             Date  Period  Total Demand         TCQ   Net Demand\n",
       "12896  2024-03-25      33      7117.993  355.818726  6762.174274"
      ]
     },
     "execution_count": 8,
     "metadata": {},
     "output_type": "execute_result"
    }
   ],
   "source": [
    "view.tail(1)"
   ]
  },
  {
   "cell_type": "code",
   "execution_count": null,
   "metadata": {},
   "outputs": [],
   "source": []
  }
 ],
 "metadata": {
  "kernelspec": {
   "display_name": "sp-tf",
   "language": "python",
   "name": "python3"
  },
  "language_info": {
   "codemirror_mode": {
    "name": "ipython",
    "version": 3
   },
   "file_extension": ".py",
   "mimetype": "text/x-python",
   "name": "python",
   "nbconvert_exporter": "python",
   "pygments_lexer": "ipython3",
   "version": "3.11.8"
  }
 },
 "nbformat": 4,
 "nbformat_minor": 2
}
